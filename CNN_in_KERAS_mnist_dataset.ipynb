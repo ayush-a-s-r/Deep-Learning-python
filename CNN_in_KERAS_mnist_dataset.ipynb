{
  "nbformat": 4,
  "nbformat_minor": 0,
  "metadata": {
    "colab": {
      "name": "CNN in KERAS--mnist dataset.ipynb",
      "provenance": [],
      "collapsed_sections": []
    },
    "kernelspec": {
      "name": "python3",
      "display_name": "Python 3"
    },
    "language_info": {
      "name": "python"
    }
  },
  "cells": [
    {
      "cell_type": "markdown",
      "metadata": {
        "id": "UeAq1Ddkjmv8"
      },
      "source": [
        "# Our First CNN in Keras \n",
        "### Creating a model based on the MNIST Dataset of Handwrittent Digits"
      ]
    },
    {
      "cell_type": "markdown",
      "metadata": {
        "id": "d3WEEKfujqTj"
      },
      "source": [
        "### Step 1: Lets load our dataset"
      ]
    },
    {
      "cell_type": "code",
      "metadata": {
        "colab": {
          "base_uri": "https://localhost:8080/"
        },
        "id": "pP0cvRaAjaoS",
        "outputId": "95308bd8-ac35-41e8-e4b2-152b4ea9ff84"
      },
      "source": [
        "from keras.datasets import mnist\n",
        "\n",
        "# LOAD THE mnist dataset\n",
        "(x_train, y_train), (x_test, y_test)  = mnist.load_data()\n",
        "\n",
        "print (x_train.shape)"
      ],
      "execution_count": null,
      "outputs": [
        {
          "output_type": "stream",
          "name": "stdout",
          "text": [
            "Downloading data from https://storage.googleapis.com/tensorflow/tf-keras-datasets/mnist.npz\n",
            "11493376/11490434 [==============================] - 0s 0us/step\n",
            "11501568/11490434 [==============================] - 0s 0us/step\n",
            "(60000, 28, 28)\n"
          ]
        }
      ]
    },
    {
      "cell_type": "markdown",
      "metadata": {
        "id": "NkcoOLslj2vM"
      },
      "source": [
        "### Step 2A: Examine the size and image dimenions (not required but good practice)\n",
        "- Check the number of samples, dimenions and whether images are color or grayscale\n",
        "- We see that our training data consist of **60,000** samples of training data, **10,000** samples of test data\n",
        "- Our labels are appropriately sized as well\n",
        "- Our Image dimenions are **28 x 28**, with **no color channels** (i.e. they are grayscale, so no BGR channels)"
      ]
    },
    {
      "cell_type": "code",
      "metadata": {
        "colab": {
          "base_uri": "https://localhost:8080/"
        },
        "id": "v4YYRE09jydy",
        "outputId": "ac6d944d-ef72-4516-d811-9294c2796196"
      },
      "source": [
        "# printing the number of samples in x_train, x_test, y_train, y_test\n",
        "print(\"Initial shape or dimensions of x_train\", str(x_train.shape))\n",
        "\n",
        "print (\"Number of samples in our training data: \" + str(len(x_train)))\n",
        "print (\"Number of labels in our training data: \" + str(len(y_train)))\n",
        "print (\"Number of samples in our test data: \" + str(len(x_test)))\n",
        "print (\"Number of labels in our test data: \" + str(len(y_test)))\n",
        "print()\n",
        "print (\"Dimensions of x_train:\" + str(x_train[0].shape))\n",
        "print (\"Labels in x_train:\" + str(y_train.shape))\n",
        "print()\n",
        "print (\"Dimensions of x_test:\" + str(x_test[0].shape))\n",
        "print (\"Labels in y_test:\" + str(y_test.shape))"
      ],
      "execution_count": null,
      "outputs": [
        {
          "output_type": "stream",
          "name": "stdout",
          "text": [
            "Initial shape or dimensions of x_train (60000, 28, 28)\n",
            "Number of samples in our training data: 60000\n",
            "Number of labels in our training data: 60000\n",
            "Number of samples in our test data: 10000\n",
            "Number of labels in our test data: 10000\n",
            "\n",
            "Dimensions of x_train:(28, 28)\n",
            "Labels in x_train:(60000,)\n",
            "\n",
            "Dimensions of x_test:(28, 28)\n",
            "Labels in y_test:(10000,)\n"
          ]
        }
      ]
    },
    {
      "cell_type": "markdown",
      "metadata": {
        "id": "9BJH2kgKj87j"
      },
      "source": [
        "### Step 2B - Let's take a look at some of images in this dataset\n",
        "- Using OpenCV\n",
        "- Using Matplotlib"
      ]
    },
    {
      "cell_type": "code",
      "metadata": {
        "colab": {
          "base_uri": "https://localhost:8080/",
          "height": 185
        },
        "id": "ee8rKIQ5j988",
        "outputId": "b10579eb-d762-4d33-9231-c6b82e2ed884"
      },
      "source": [
        "# USING OpenCV\n",
        "import cv2 \n",
        "import numpy as np\n",
        "from google.colab.patches import cv2_imshow\n",
        "\n",
        "# USE OpenCV TO DISPLAY 6 RANDOM IMAGES FROM THE DATASET\n",
        "for i in range(0,6):\n",
        "    random_num = np.random.randint(0, len(x_train))\n",
        "    img = x_train[random_num]\n",
        "    window_name = 'Random Sample #' + str(i)\n",
        "    cv2_imshow(img)\n",
        "    cv2.waitKey(0)\n",
        "\n",
        "cv2.destroyAllWindows()   "
      ],
      "execution_count": null,
      "outputs": [
        {
          "output_type": "display_data",
          "data": {
            "image/png": "[encoded data removed]",
            "text/plain": [
              "<PIL.Image.Image image mode=L size=28x28 at 0x7F2DDBFA4FD0>"
            ]
          },
          "metadata": {}
        },
        {
          "output_type": "display_data",
          "data": {
            "image/png": "[encoded data removed]",
            "text/plain": [
              "<PIL.Image.Image image mode=L size=28x28 at 0x7F2DD28F6590>"
            ]
          },
          "metadata": {}
        },
        {
          "output_type": "display_data",
          "data": {
            "image/png": "[encoded data removed]",
            "text/plain": [
              "<PIL.Image.Image image mode=L size=28x28 at 0x7F2DDBFA4F10>"
            ]
          },
          "metadata": {}
        },
        {
          "output_type": "display_data",
          "data": {
            "image/png": "[encoded data removed]",
            "text/plain": [
              "<PIL.Image.Image image mode=L size=28x28 at 0x7F2DDBFA4250>"
            ]
          },
          "metadata": {}
        },
        {
          "output_type": "display_data",
          "data": {
            "image/png": "[encoded data removed]",
            "text/plain": [
              "<PIL.Image.Image image mode=L size=28x28 at 0x7F2DD28F6990>"
            ]
          },
          "metadata": {}
        },
        {
          "output_type": "display_data",
          "data": {
            "image/png": "[encoded data removed]",
            "text/plain": [
              "<PIL.Image.Image image mode=L size=28x28 at 0x7F2DD28F6B50>"
            ]
          },
          "metadata": {}
        }
      ]
    },
    {
      "cell_type": "markdown",
      "metadata": {
        "id": "b1XNC-C8kRzz"
      },
      "source": [
        "### Let's do the same thing but using matplotlib to plot 6 images"
      ]
    },
    {
      "cell_type": "code",
      "metadata": {
        "colab": {
          "base_uri": "https://localhost:8080/",
          "height": 191
        },
        "id": "h2CaRnMpkMOj",
        "outputId": "e257b2a0-20ae-483b-ab90-adea7bbf1ad6"
      },
      "source": [
        "import matplotlib.pyplot as plt\n",
        "\n",
        "# PLOTS 6 IMAGES\n",
        "# note subplot's arugments are -- nrows,ncols,index\n",
        "# WE SET THE COLOR TO GRAY SINCE OUR IMAGE DATASET IS GRAYSCALE\n",
        "plt.subplot(331)\n",
        "random_num = np.random.randint(0,len(x_train))\n",
        "plt.imshow(x_train[random_num], cmap=plt.get_cmap('gray'))\n",
        "\n",
        "plt.subplot(332)\n",
        "random_num = np.random.randint(0,len(x_train))\n",
        "plt.imshow(x_train[random_num], cmap=plt.get_cmap('gray'))\n",
        "\n",
        "plt.subplot(333)\n",
        "random_num = np.random.randint(0,len(x_train))\n",
        "plt.imshow(x_train[random_num], cmap=plt.get_cmap('gray'))\n",
        "\n",
        "plt.subplot(334)\n",
        "random_num = np.random.randint(0,len(x_train))\n",
        "plt.imshow(x_train[random_num], cmap=plt.get_cmap('gray'))\n",
        "\n",
        "plt.subplot(335)\n",
        "random_num = np.random.randint(0,len(x_train))\n",
        "plt.imshow(x_train[random_num], cmap=plt.get_cmap('gray'))\n",
        "\n",
        "plt.subplot(336)\n",
        "random_num = np.random.randint(0,len(x_train))\n",
        "plt.imshow(x_train[random_num], cmap=plt.get_cmap('gray'))\n",
        "\n",
        "plt.show()"
      ],
      "execution_count": null,
      "outputs": [
        {
          "output_type": "display_data",
          "data": {
            "image/png": "[encoded data removed]",
            "text/plain": [
              "<Figure size 432x288 with 6 Axes>"
            ]
          },
          "metadata": {
            "needs_background": "light"
          }
        }
      ]
    },
    {
      "cell_type": "markdown",
      "metadata": {
        "id": "hyAs7HeiksM0"
      },
      "source": [
        "### Step 3A - Prepare our dataset for training"
      ]
    },
    {
      "cell_type": "code",
      "metadata": {
        "colab": {
          "base_uri": "https://localhost:8080/"
        },
        "id": "mXDZRf7ZkpU2",
        "outputId": "dcdd29a7-7ff2-46be-bfe4-003a6020258f"
      },
      "source": [
        "# STORE THE no. OF ROWS & COLUMNS\n",
        "img_rows = x_train[0].shape[0]\n",
        "img_cols = x_train[0].shape[1]\n",
        "\n",
        "# GETTING OUR DATA IN THE RIGHT 'shape' NEEDED FOR Keras\n",
        "# WW NEED TO ADD A 4th DIMENSION TO OUR DATA, THEREBY CHANGING THE ORIGINAL IMG SHAPE (60000,28,28) TO (60000,28,28,1)\n",
        "x_train = x_train.reshape(x_train.shape[0], img_rows, img_cols, 1)\n",
        "x_test = x_test.reshape(x_test.shape[0], img_rows, img_cols, 1)\n",
        "\n",
        "# STORE THE SHAPE OF SINGLE IMAGE\n",
        "input_shape = (img_rows, img_cols, 1)\n",
        "\n",
        "# CHANGE IMAGE TYPE TO float32 DATA TYPE\n",
        "x_train = x_train.astype('float32')\n",
        "x_test = x_test.astype('float32')\n",
        "\n",
        "# NORMALIZE DATA BY CHANGING THE RANGE FROM (0 to 255) to (0 to 1)\n",
        "x_train /= 255\n",
        "x_test /= 255\n",
        "\n",
        "print('x_train shape:', x_train.shape)\n",
        "print(x_train.shape[0], 'train samples')\n",
        "print(x_test.shape[0], 'test samples')"
      ],
      "execution_count": null,
      "outputs": [
        {
          "output_type": "stream",
          "name": "stdout",
          "text": [
            "x_train shape: (60000, 28, 28, 1)\n",
            "60000 train samples\n",
            "10000 test samples\n"
          ]
        }
      ]
    },
    {
      "cell_type": "markdown",
      "metadata": {
        "id": "OYNvx-XPlw79"
      },
      "source": [
        "### Step 3B - One Hot Encode our Labels (Y)"
      ]
    },
    {
      "cell_type": "code",
      "metadata": {
        "colab": {
          "base_uri": "https://localhost:8080/"
        },
        "id": "wrlqdMa2ltfb",
        "outputId": "751d485a-52c7-44ef-8674-ce74c08eb14c"
      },
      "source": [
        "from keras.utils import np_utils\n",
        "\n",
        "# NOW WE ONE HOT ENCODE THE OUTPUTS\n",
        "y_train = np_utils.to_categorical(y_train)\n",
        "y_test = np_utils.to_categorical(y_test)\n",
        "\n",
        "# COUNT THE no. OF COLUMNS IN OUR ONE HOT ENCODED MATRIX \n",
        "print (\"Number of Classes: \" + str(y_test.shape[1]))\n",
        "\n",
        "num_classes = y_test.shape[1]\n",
        "num_pixels = x_train.shape[1] * x_train.shape[2]"
      ],
      "execution_count": null,
      "outputs": [
        {
          "output_type": "stream",
          "name": "stdout",
          "text": [
            "Number of Classes: 10\n"
          ]
        }
      ]
    },
    {
      "cell_type": "code",
      "metadata": {
        "colab": {
          "base_uri": "https://localhost:8080/"
        },
        "id": "bVqjN9cgmJsr",
        "outputId": "bc978750-bff0-45a2-a4fb-111cdade6ec8"
      },
      "source": [
        "y_train[0]"
      ],
      "execution_count": null,
      "outputs": [
        {
          "output_type": "execute_result",
          "data": {
            "text/plain": [
              "array([0., 0., 0., 0., 0., 1., 0., 0., 0., 0.], dtype=float32)"
            ]
          },
          "metadata": {},
          "execution_count": 7
        }
      ]
    },
    {
      "cell_type": "markdown",
      "metadata": {
        "id": "xPtR3uwymQr9"
      },
      "source": [
        "### Step 4 - Create Our Model\n",
        "- We're constructing a simple but effective CNN that uses 32 filters of size 3x3\n",
        "- We've added a 2nd CONV layer of 64 filters of the same size 3x2\n",
        "- We then downsample our data to 2x2, here he apply a dropout where p is set to 0.25\n",
        "- We then flatten our Max Pool output that is connected to a Dense/FC layer that has an output size of 128\n",
        "- How we apply a dropout where P is set to 0.5\n",
        "- Thus 128 output is connected to another FC/Dense layer that outputs to the 10 categorical units"
      ]
    },
    {
      "cell_type": "code",
      "metadata": {
        "colab": {
          "base_uri": "https://localhost:8080/"
        },
        "id": "836IuPe4mMbV",
        "outputId": "3007f06f-6ad4-4cf1-b46f-01f64677f6b8"
      },
      "source": [
        "import keras\n",
        "from keras.datasets import mnist\n",
        "from keras.models import Sequential\n",
        "from keras.layers import Dense, Dropout, Flatten\n",
        "from keras.layers import Conv2D, MaxPooling2D\n",
        "from keras import backend as K\n",
        "from tensorflow.keras.optimizers import SGD \n",
        "\n",
        "# CREATE MODEL\n",
        "# SEQUENTIAL = 1 LAYER ON TOP OF OTHER LAYER in SEQUENCE\n",
        "model = Sequential()\n",
        "\n",
        "# ADD LAYER\n",
        "# 32 filters added on image\n",
        "model.add(Conv2D(32, kernel_size=(3, 3),\n",
        "                 activation='relu',\n",
        "                input_shape=input_shape))\n",
        "model.add(Conv2D(64, (3, 3), activation='relu'))\n",
        "\n",
        "model.add(MaxPooling2D(pool_size=(2, 2)))\n",
        "model.add(Dropout(0.25))\n",
        "\n",
        "# FLAT FROM 3D TO 1D to create FULLY CONNECTED LAYER\n",
        "model.add(Flatten())\n",
        "model.add(Dense(128, activation='relu'))\n",
        "model.add(Dropout(0.5))\n",
        "model.add(Dense(num_classes, activation='softmax'))\n",
        "\n",
        "model.compile(loss = 'categorical_crossentropy',\n",
        "              optimizer = SGD(0.01), #learning rate is 0.1\n",
        "              metrics = ['accuracy'])\n",
        "\n",
        "print(model.summary())"
      ],
      "execution_count": null,
      "outputs": [
        {
          "output_type": "stream",
          "name": "stdout",
          "text": [
            "Model: \"sequential\"\n",
            "_________________________________________________________________\n",
            "Layer (type)                 Output Shape              Param #   \n",
            "=================================================================\n",
            "conv2d (Conv2D)              (None, 26, 26, 32)        320       \n",
            "_________________________________________________________________\n",
            "conv2d_1 (Conv2D)            (None, 24, 24, 64)        18496     \n",
            "_________________________________________________________________\n",
            "max_pooling2d (MaxPooling2D) (None, 12, 12, 64)        0         \n",
            "_________________________________________________________________\n",
            "dropout (Dropout)            (None, 12, 12, 64)        0         \n",
            "_________________________________________________________________\n",
            "flatten (Flatten)            (None, 9216)              0         \n",
            "_________________________________________________________________\n",
            "dense (Dense)                (None, 128)               1179776   \n",
            "_________________________________________________________________\n",
            "dropout_1 (Dropout)          (None, 128)               0         \n",
            "_________________________________________________________________\n",
            "dense_1 (Dense)              (None, 10)                1290      \n",
            "=================================================================\n",
            "Total params: 1,199,882\n",
            "Trainable params: 1,199,882\n",
            "Non-trainable params: 0\n",
            "_________________________________________________________________\n",
            "None\n"
          ]
        }
      ]
    },
    {
      "cell_type": "markdown",
      "metadata": {
        "id": "UuTKX9UVmbJz"
      },
      "source": [
        "### Step 5 - Train our Model\n",
        "- We place our formatted data as the inputs and set the batch size, number of epochs\n",
        "- We store our model's training results for plotting in future\n",
        "- We then use Kera's model.evaluate function to output the model's find performance. Here we are examining Test Loss and Test Accuracy"
      ]
    },
    {
      "cell_type": "code",
      "metadata": {
        "colab": {
          "base_uri": "https://localhost:8080/"
        },
        "id": "7WfnOC7AmXZk",
        "outputId": "c95156e3-fffd-4760-df4b-992a709f2c6f"
      },
      "source": [
        "batch_size = 32\n",
        "epochs = 10\n",
        "\n",
        "history = model.fit(x_train,\n",
        "                    y_train,\n",
        "                    batch_size = batch_size,\n",
        "                    epochs = epochs,\n",
        "                    verbose = 1,\n",
        "                    validation_data = (x_test, y_test))\n",
        "\n",
        "# evaluate -- to calculate score\n",
        "score = model.evaluate(x_test, y_test, verbose=0)\n",
        "print('Test loss:', score[0])\n",
        "print('Test accuracy:', score[1])"
      ],
      "execution_count": null,
      "outputs": [
        {
          "output_type": "stream",
          "name": "stdout",
          "text": [
            "Epoch 1/10\n",
            "1875/1875 [==============================] - 164s 87ms/step - loss: 0.5614 - accuracy: 0.8246 - val_loss: 0.1947 - val_accuracy: 0.9430\n",
            "Epoch 2/10\n",
            "1875/1875 [==============================] - 164s 88ms/step - loss: 0.2918 - accuracy: 0.9116 - val_loss: 0.1430 - val_accuracy: 0.9569\n",
            "Epoch 3/10\n",
            "1875/1875 [==============================] - 164s 87ms/step - loss: 0.2212 - accuracy: 0.9333 - val_loss: 0.1051 - val_accuracy: 0.9692\n",
            "Epoch 4/10\n",
            "1875/1875 [==============================] - 164s 87ms/step - loss: 0.1714 - accuracy: 0.9484 - val_loss: 0.0829 - val_accuracy: 0.9746\n",
            "Epoch 5/10\n",
            "1875/1875 [==============================] - 164s 87ms/step - loss: 0.1401 - accuracy: 0.9578 - val_loss: 0.0672 - val_accuracy: 0.9787\n",
            "Epoch 6/10\n",
            "1875/1875 [==============================] - 164s 87ms/step - loss: 0.1214 - accuracy: 0.9638 - val_loss: 0.0581 - val_accuracy: 0.9806\n",
            "Epoch 7/10\n",
            "1875/1875 [==============================] - 163s 87ms/step - loss: 0.1072 - accuracy: 0.9683 - val_loss: 0.0542 - val_accuracy: 0.9827\n",
            "Epoch 8/10\n",
            "1875/1875 [==============================] - 164s 87ms/step - loss: 0.0938 - accuracy: 0.9712 - val_loss: 0.0475 - val_accuracy: 0.9847\n",
            "Epoch 9/10\n",
            "1875/1875 [==============================] - 164s 87ms/step - loss: 0.0893 - accuracy: 0.9735 - val_loss: 0.0423 - val_accuracy: 0.9863\n",
            "Epoch 10/10\n",
            "1875/1875 [==============================] - 163s 87ms/step - loss: 0.0804 - accuracy: 0.9757 - val_loss: 0.0413 - val_accuracy: 0.9869\n",
            "Test loss: 0.04128406569361687\n",
            "Test accuracy: 0.9868999719619751\n"
          ]
        }
      ]
    },
    {
      "cell_type": "markdown",
      "metadata": {
        "id": "G9lDTq61mi97"
      },
      "source": [
        "### Step 6 - Ploting our Loss and Accuracy Charts"
      ]
    },
    {
      "cell_type": "code",
      "metadata": {
        "colab": {
          "base_uri": "https://localhost:8080/"
        },
        "id": "gxfXgl3k1z0N",
        "outputId": "df42bc4b-a816-4e05-9771-2fd1909437dd"
      },
      "source": [
        "history_dict = history.history\n",
        "history_dict"
      ],
      "execution_count": null,
      "outputs": [
        {
          "output_type": "execute_result",
          "data": {
            "text/plain": [
              "{'accuracy': [0.82464998960495,\n",
              "  0.9115833044052124,\n",
              "  0.9332666397094727,\n",
              "  0.948366641998291,\n",
              "  0.9577500224113464,\n",
              "  0.9637666940689087,\n",
              "  0.9683499932289124,\n",
              "  0.9712499976158142,\n",
              "  0.9735333323478699,\n",
              "  0.9757333397865295],\n",
              " 'loss': [0.5613548159599304,\n",
              "  0.2918260395526886,\n",
              "  0.22122740745544434,\n",
              "  0.1714373379945755,\n",
              "  0.1401463896036148,\n",
              "  0.12140527367591858,\n",
              "  0.10715533047914505,\n",
              "  0.09380567818880081,\n",
              "  0.08934346586465836,\n",
              "  0.08039185404777527],\n",
              " 'val_accuracy': [0.9430000185966492,\n",
              "  0.9569000005722046,\n",
              "  0.9692000150680542,\n",
              "  0.9746000170707703,\n",
              "  0.9786999821662903,\n",
              "  0.9805999994277954,\n",
              "  0.982699990272522,\n",
              "  0.9847000241279602,\n",
              "  0.986299991607666,\n",
              "  0.9868999719619751],\n",
              " 'val_loss': [0.19471509754657745,\n",
              "  0.14298009872436523,\n",
              "  0.10511557757854462,\n",
              "  0.08292237669229507,\n",
              "  0.06724966317415237,\n",
              "  0.05806233361363411,\n",
              "  0.05419997125864029,\n",
              "  0.04749298095703125,\n",
              "  0.04231744259595871,\n",
              "  0.04128406569361687]}"
            ]
          },
          "metadata": {},
          "execution_count": 10
        }
      ]
    },
    {
      "cell_type": "code",
      "metadata": {
        "colab": {
          "base_uri": "https://localhost:8080/",
          "height": 279
        },
        "id": "x2NG9HxDme0T",
        "outputId": "35de6914-7a82-49bf-adb3-18a5744ac185"
      },
      "source": [
        "# PLOTTING LOSS CHARTS\n",
        "import matplotlib.pyplot as plt\n",
        "\n",
        "#model name.history\n",
        "history_dict = history.history\n",
        "\n",
        "loss_values = history_dict['loss']\n",
        "val_loss_values = history_dict['val_loss']\n",
        "epochs = range(1, len(loss_values) + 1)\n",
        "\n",
        "line1 = plt.plot(epochs, val_loss_values, label='Validation/Test Loss')\n",
        "line2 = plt.plot(epochs, loss_values, label='Training Loss')\n",
        "plt.setp(line1, linewidth=2.0, marker = '+', markersize=10.0)\n",
        "plt.setp(line2, linewidth=2.0, marker = '4', markersize=10.0)\n",
        "plt.xlabel('Epochs') \n",
        "plt.ylabel('Loss')\n",
        "plt.grid(True)\n",
        "plt.legend()\n",
        "plt.show()"
      ],
      "execution_count": null,
      "outputs": [
        {
          "output_type": "display_data",
          "data": {
            "image/png": "[encoded data removed]",
            "text/plain": [
              "<Figure size 432x288 with 1 Axes>"
            ]
          },
          "metadata": {
            "needs_background": "light"
          }
        }
      ]
    },
    {
      "cell_type": "code",
      "metadata": {
        "colab": {
          "base_uri": "https://localhost:8080/",
          "height": 279
        },
        "id": "7i3RllClmuA7",
        "outputId": "a18f08f4-6850-40b1-8da7-d74276718b6a"
      },
      "source": [
        "# PLOTTING ACCURACY CHARTS\n",
        "import matplotlib.pyplot as plt\n",
        "\n",
        "history_dict = history.history\n",
        "\n",
        "acc_values = history_dict['accuracy']\n",
        "val_acc_values = history_dict['val_accuracy'] #val_acc=test accuracy\n",
        "epochs = range(1, len(loss_values) + 1)\n",
        "\n",
        "line1 = plt.plot(epochs, val_acc_values, label='Validation/Test Accuracy')\n",
        "line2 = plt.plot(epochs, acc_values, label='Training Accuracy')\n",
        "plt.setp(line1, linewidth=2.0, marker = '+', markersize=10.0)\n",
        "plt.setp(line2, linewidth=2.0, marker = '4', markersize=10.0)\n",
        "plt.xlabel('Epochs') \n",
        "plt.ylabel('Accuracy')\n",
        "plt.grid(True)\n",
        "plt.legend()\n",
        "plt.show()"
      ],
      "execution_count": null,
      "outputs": [
        {
          "output_type": "display_data",
          "data": {
            "image/png": "[encoded data removed]",
            "text/plain": [
              "<Figure size 432x288 with 1 Axes>"
            ]
          },
          "metadata": {
            "needs_background": "light"
          }
        }
      ]
    },
    {
      "cell_type": "markdown",
      "metadata": {
        "id": "T7YF3dCZ1ilK"
      },
      "source": [
        "### Step 7A - Saving our Model"
      ]
    },
    {
      "cell_type": "code",
      "metadata": {
        "id": "_E09Hv_5i65C",
        "colab": {
          "base_uri": "https://localhost:8080/"
        },
        "outputId": "f024d523-5037-4a8e-8d12-ada2590d443b"
      },
      "source": [
        "model.save(\"MNISTcnnModel.h5\")\n",
        "print(\"Model Saved\")"
      ],
      "execution_count": null,
      "outputs": [
        {
          "output_type": "stream",
          "name": "stdout",
          "text": [
            "Model Saved\n"
          ]
        }
      ]
    },
    {
      "cell_type": "markdown",
      "metadata": {
        "id": "Gynas4J92o-4"
      },
      "source": [
        "### Step 7B - Loading  our Model"
      ]
    },
    {
      "cell_type": "code",
      "metadata": {
        "id": "QItJvMZ92xPu"
      },
      "source": [
        "from keras.models import load_model\n",
        "\n",
        "classifier = load_model('MNISTcnnModel.h5')"
      ],
      "execution_count": null,
      "outputs": []
    },
    {
      "cell_type": "markdown",
      "metadata": {
        "id": "0LgJ9_vC3Jad"
      },
      "source": [
        "### Step 8 - Lets input some of our test data into our classifer"
      ]
    },
    {
      "cell_type": "code",
      "metadata": {
        "id": "BTmpk0WH3Q10",
        "colab": {
          "base_uri": "https://localhost:8080/",
          "height": 1000
        },
        "outputId": "6914235d-536c-4ff4-aa6a-738406c5b251"
      },
      "source": [
        "import cv2\n",
        "import numpy as np\n",
        "\n",
        "def draw_test(name, pred, input_im):\n",
        "    BLACK = [0,0,0]\n",
        "    expanded_image = cv2.copyMakeBorder(input_im, 0, 0, 0, imageL.shape[0] ,cv2.BORDER_CONSTANT,value=BLACK)\n",
        "    expanded_image = cv2.cvtColor(expanded_image, cv2.COLOR_GRAY2BGR)\n",
        "    cv2.putText(expanded_image, str(pred), (152, 70) , cv2.FONT_HERSHEY_COMPLEX_SMALL,2, (0,255,0), 2)\n",
        "    #cv2_imshow(name)\n",
        "    cv2_imshow(expanded_image)\n",
        "\n",
        "\n",
        "for i in range(0,10):\n",
        "    rand = np.random.randint(0,len(x_test))\n",
        "    input_im = x_test[rand]\n",
        "\n",
        "    imageL = cv2.resize(input_im, None, fx=4, fy=4, interpolation = cv2.INTER_CUBIC)\n",
        "    input_im = input_im.reshape(1,28,28,1) \n",
        "    \n",
        "    ## Get Prediction\n",
        "    res = classifier.predict(input_im, 1, verbose = 0)\n",
        "    res1 = np.argmax(res,axis=1)\n",
        "\n",
        "    draw_test(\"Prediction\", res1, imageL) \n",
        "    cv2.waitKey(0)\n",
        "\n",
        "cv2.destroyAllWindows()"
      ],
      "execution_count": null,
      "outputs": [
        {
          "output_type": "display_data",
          "data": {
            "image/png": "[encoded data removed]",
            "text/plain": [
              "<PIL.Image.Image image mode=RGB size=224x112 at 0x7F2DCABCA6D0>"
            ]
          },
          "metadata": {}
        },
        {
          "output_type": "display_data",
          "data": {
            "image/png": "[encoded data removed]",
            "text/plain": [
              "<PIL.Image.Image image mode=RGB size=224x112 at 0x7F2DCB7D1290>"
            ]
          },
          "metadata": {}
        },
        {
          "output_type": "display_data",
          "data": {
            "image/png": "[encoded data removed]",
            "text/plain": [
              "<PIL.Image.Image image mode=RGB size=224x112 at 0x7F2DD27D4C10>"
            ]
          },
          "metadata": {}
        },
        {
          "output_type": "display_data",
          "data": {
            "image/png": "[encoded data removed]",
            "text/plain": [
              "<PIL.Image.Image image mode=RGB size=224x112 at 0x7F2DD27DFBD0>"
            ]
          },
          "metadata": {}
        },
        {
          "output_type": "display_data",
          "data": {
            "image/png": "[encoded data removed]",
            "text/plain": [
              "<PIL.Image.Image image mode=RGB size=224x112 at 0x7F2DCE24B090>"
            ]
          },
          "metadata": {}
        },
        {
          "output_type": "display_data",
          "data": {
            "image/png": "[encoded data removed]",
            "text/plain": [
              "<PIL.Image.Image image mode=RGB size=224x112 at 0x7F2DCE22E890>"
            ]
          },
          "metadata": {}
        },
        {
          "output_type": "display_data",
          "data": {
            "image/png": "[encoded data removed]",
            "text/plain": [
              "<PIL.Image.Image image mode=RGB size=224x112 at 0x7F2DD2837F10>"
            ]
          },
          "metadata": {}
        },
        {
          "output_type": "display_data",
          "data": {
            "image/png": "[encoded data removed]",
            "text/plain": [
              "<PIL.Image.Image image mode=RGB size=224x112 at 0x7F2DCE235750>"
            ]
          },
          "metadata": {}
        },
        {
          "output_type": "display_data",
          "data": {
            "image/png": "[encoded data removed]",
            "text/plain": [
              "<PIL.Image.Image image mode=RGB size=224x112 at 0x7F2DD28376D0>"
            ]
          },
          "metadata": {}
        },
        {
          "output_type": "display_data",
          "data": {
            "image/png": "[encoded data removed]",
            "text/plain": [
              "<PIL.Image.Image image mode=RGB size=224x112 at 0x7F2DD281A250>"
            ]
          },
          "metadata": {}
        }
      ]
    },
    {
      "cell_type": "code",
      "metadata": {
        "id": "LTTzUQg1-XOu"
      },
      "source": [
        ""
      ],
      "execution_count": null,
      "outputs": []
    }
  ]
}