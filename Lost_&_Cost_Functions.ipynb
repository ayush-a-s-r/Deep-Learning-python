{
  "nbformat": 4,
  "nbformat_minor": 0,
  "metadata": {
    "colab": {
      "name": "Lost & Cost Functions.ipynb",
      "provenance": [],
      "collapsed_sections": []
    },
    "kernelspec": {
      "name": "python3",
      "display_name": "Python 3"
    },
    "language_info": {
      "name": "python"
    }
  },
  "cells": [
    {
      "cell_type": "code",
      "metadata": {
        "id": "6Iw4iY9IP6qF"
      },
      "source": [
        "import numpy as np\n",
        "import matplotlib.pyplot as plt\n",
        "import tensorflow as tf\n",
        "from tensorflow import keras\n",
        "import pandas as pd\n",
        "from sklearn.neighbors import KNeighborsRegressor\n",
        "%matplotlib inline"
      ],
      "execution_count": null,
      "outputs": []
    },
    {
      "cell_type": "code",
      "metadata": {
        "id": "K1Qo9Km1P_DC"
      },
      "source": [
        "y_original=np.array([1,0,1,1,0])\n",
        "y_predicted=np.array([0,0.3,0.5,0.8,0.6])"
      ],
      "execution_count": null,
      "outputs": []
    },
    {
      "cell_type": "code",
      "metadata": {
        "id": "Vml8PPaSQSil"
      },
      "source": [
        "def mae(yo,yp):\n",
        "  totalerror=0\n",
        "  for yt,ypv in zip(yo,yp):\n",
        "    totalerror += abs(yt-ypv)\n",
        "  print('Total error is :',totalerror)\n",
        "  mabe=totalerror/len(yo)\n",
        "  print('Mean Absolute Error is :',mabe)\n"
      ],
      "execution_count": null,
      "outputs": []
    },
    {
      "cell_type": "code",
      "metadata": {
        "colab": {
          "base_uri": "https://localhost:8080/"
        },
        "id": "JbG6k0j-RqrJ",
        "outputId": "25272d2d-7c54-49e5-ffd3-1c2a19162b76"
      },
      "source": [
        "mae(y_original,y_predicted)"
      ],
      "execution_count": null,
      "outputs": [
        {
          "output_type": "stream",
          "text": [
            "Total error is : 2.6\n",
            "Mean Absolute Error is : 0.52\n"
          ],
          "name": "stdout"
        }
      ]
    },
    {
      "cell_type": "code",
      "metadata": {
        "colab": {
          "base_uri": "https://localhost:8080/"
        },
        "id": "9Eaa__xhR2Y4",
        "outputId": "ac681f3d-deec-4e0a-dacd-f4e88b3e3d9f"
      },
      "source": [
        "np.mean(abs(y_original-y_predicted))"
      ],
      "execution_count": null,
      "outputs": [
        {
          "output_type": "execute_result",
          "data": {
            "text/plain": [
              "0.52"
            ]
          },
          "metadata": {
            "tags": []
          },
          "execution_count": 5
        }
      ]
    },
    {
      "cell_type": "code",
      "metadata": {
        "id": "dx_yTr0iSMIt"
      },
      "source": [
        "def mse(yo,yp):\n",
        "  totalerror1=0\n",
        "  for yt,ypv in zip(yo,yp):\n",
        "    totalerror1 += (yt-ypv)**2\n",
        "  print('Total error is :',totalerror1)\n",
        "  msqe=totalerror1/len(yo)\n",
        "  print('Mean Square Error is :',msqe)"
      ],
      "execution_count": null,
      "outputs": []
    },
    {
      "cell_type": "code",
      "metadata": {
        "colab": {
          "base_uri": "https://localhost:8080/"
        },
        "id": "8ITUa3FmSzGp",
        "outputId": "96435699-b6ea-4274-fca9-6c9b27a90c7f"
      },
      "source": [
        "mse(y_original,y_predicted)"
      ],
      "execution_count": null,
      "outputs": [
        {
          "output_type": "stream",
          "text": [
            "Total error is : 1.7400000000000002\n",
            "Mean Square Error is : 0.34800000000000003\n"
          ],
          "name": "stdout"
        }
      ]
    },
    {
      "cell_type": "code",
      "metadata": {
        "id": "5UOzr62BXe29"
      },
      "source": [
        "ep = 1e-15"
      ],
      "execution_count": null,
      "outputs": []
    },
    {
      "cell_type": "code",
      "metadata": {
        "id": "ZsqdVKoMS2t6"
      },
      "source": [
        "y_predicted = np.array([0,0.3,0.5,1,0.6])\n",
        "y_predicted_new = [max(i,ep) for i in y_predicted]\n",
        "y_predicted_new = [min(i,1-ep) for i in y_predicted_new]\n",
        "y_predicted_new = np.array(y_predicted_new)"
      ],
      "execution_count": null,
      "outputs": []
    },
    {
      "cell_type": "code",
      "metadata": {
        "colab": {
          "base_uri": "https://localhost:8080/"
        },
        "id": "VbPLhCm9Yr2k",
        "outputId": "298f54c1-30c6-45ad-876f-5a235b603f4a"
      },
      "source": [
        "np.mean(y_original * np.log(y_predicted_new)+(1-y_original) * np.log(1-y_predicted_new))"
      ],
      "execution_count": null,
      "outputs": [
        {
          "output_type": "execute_result",
          "data": {
            "text/plain": [
              "-7.300977850256705"
            ]
          },
          "metadata": {
            "tags": []
          },
          "execution_count": 10
        }
      ]
    },
    {
      "cell_type": "code",
      "metadata": {
        "colab": {
          "base_uri": "https://localhost:8080/"
        },
        "id": "VKBFOvuAZAiZ",
        "outputId": "ed0b6127-d7d5-4daf-8707-98d710016cee"
      },
      "source": [
        "def binary_loss(y_original,y_predicted):\n",
        "  ep=1e-15\n",
        "  y_predicted_new = [max(i,ep) for i in y_predicted]\n",
        "  y_predicted_new = [min(i,1-ep) for i in y_predicted_new]\n",
        "  y_predicted_new = np.array(y_predicted_new)\n",
        "  return np.mean(y_original * np.log(y_predicted_new)+(1-y_original) * np.log(1-y_predicted_new))\n",
        "\n",
        "binary_loss(y_original,y_predicted)"
      ],
      "execution_count": null,
      "outputs": [
        {
          "output_type": "execute_result",
          "data": {
            "text/plain": [
              "-7.300977850256705"
            ]
          },
          "metadata": {
            "tags": []
          },
          "execution_count": 11
        }
      ]
    },
    {
      "cell_type": "code",
      "metadata": {
        "id": "4I7iokNrZklr"
      },
      "source": [
        ""
      ],
      "execution_count": null,
      "outputs": []
    }
  ]
}